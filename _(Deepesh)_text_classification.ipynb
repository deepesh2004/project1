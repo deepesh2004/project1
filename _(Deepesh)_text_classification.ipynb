{
 "cells": [
  {
   "cell_type": "code",
   "execution_count": 7,
   "id": "c914c712-f2d6-4565-8e25-3371ab0c1aff",
   "metadata": {},
   "outputs": [],
   "source": [
    "import numpy as np\n",
    "import tensorflow as tf \n",
    "import tensorflow_datasets as tfds\n",
    "import tensorflow_hub as hub\n"
   ]
  },
  {
   "cell_type": "code",
   "execution_count": 13,
   "id": "e9c3abc0-5b97-4707-a45d-411873272d84",
   "metadata": {},
   "outputs": [
    {
     "name": "stdout",
     "output_type": "stream",
     "text": [
      "\u001b[1mDownloading and preparing dataset Unknown size (download: Unknown size, generated: Unknown size, total: Unknown size) to C:\\Users\\HP\\tensorflow_datasets\\imdb_reviews\\plain_text\\1.0.0...\u001b[0m\n"
     ]
    },
    {
     "name": "stderr",
     "output_type": "stream",
     "text": [
      "Dl Completed...: 0 url [00:00, ? url/s]\n",
      "Dl Completed...:   0%|          | 0/1 [00:00<?, ? url/s]\n",
      "Dl Completed...:   0%|          | 0/1 [00:00<?, ? url/s]\n",
      "Dl Size...:   0%|          | 0/80 [00:00<?, ? MiB/s]\u001b[A\n",
      "Dl Completed...:   0%|          | 0/1 [00:06<?, ? url/s]MiB]\u001b[A\n",
      "Dl Size...:   1%|▏         | 1/80 [00:06<08:19,  6.32s/ MiB]\u001b[A\n",
      "Dl Completed...:   0%|          | 0/1 [00:08<?, ? url/s]MiB]\u001b[A\n",
      "Dl Size...:   2%|▎         | 2/80 [00:08<04:39,  3.59s/ MiB]\u001b[A\n",
      "Dl Completed...:   0%|          | 0/1 [00:09<?, ? url/s]MiB]\u001b[A\n",
      "Dl Size...:   4%|▍         | 3/80 [00:09<03:12,  2.50s/ MiB]\u001b[A\n",
      "Dl Completed...:   0%|          | 0/1 [00:10<?, ? url/s]MiB]\u001b[A\n",
      "Dl Completed...:   0%|          | 0/1 [00:11<?, ? url/s]MiB]\u001b[A\n",
      "Dl Size...:   6%|▋         | 5/80 [00:11<02:24,  1.93s/ MiB]\u001b[A\n",
      "Dl Completed...:   0%|          | 0/1 [00:11<?, ? url/s]MiB]\u001b[A\n",
      "Dl Completed...:   0%|          | 0/1 [00:12<?, ? url/s]MiB]\u001b[A\n",
      "Dl Size...:   9%|▉         | 7/80 [00:12<01:38,  1.35s/ MiB]\u001b[A\n",
      "Dl Completed...:   0%|          | 0/1 [00:13<?, ? url/s]MiB]\u001b[A\n",
      "Dl Completed...:   0%|          | 0/1 [00:13<?, ? url/s]MiB]\u001b[A\n",
      "Dl Size...:  11%|█▏        | 9/80 [00:13<01:13,  1.03s/ MiB]\u001b[A\n",
      "Dl Completed...:   0%|          | 0/1 [00:14<?, ? url/s]iB/s]\u001b[A\n",
      "Dl Completed...:   0%|          | 0/1 [00:14<?, ? url/s]iB/s]\u001b[A\n",
      "Dl Completed...:   0%|          | 0/1 [00:15<?, ? url/s]iB/s]\u001b[A\n",
      "Dl Size...:  15%|█▌        | 12/80 [00:15<00:56,  1.20 MiB/s]\u001b[A\n",
      "Dl Completed...:   0%|          | 0/1 [00:15<?, ? url/s]iB/s]\u001b[A\n",
      "Dl Completed...:   0%|          | 0/1 [00:15<?, ? url/s]iB/s]\u001b[A\n",
      "Dl Completed...:   0%|          | 0/1 [00:16<?, ? url/s]iB/s]\u001b[A\n",
      "Dl Size...:  19%|█▉        | 15/80 [00:16<00:43,  1.50 MiB/s]\u001b[A\n",
      "Dl Completed...:   0%|          | 0/1 [00:16<?, ? url/s]iB/s]\u001b[A\n",
      "Dl Completed...:   0%|          | 0/1 [00:16<?, ? url/s]iB/s]\u001b[A\n",
      "Dl Completed...:   0%|          | 0/1 [00:17<?, ? url/s]iB/s]\u001b[A\n",
      "Dl Completed...:   0%|          | 0/1 [00:17<?, ? url/s]iB/s]\u001b[A\n",
      "Dl Size...:  24%|██▍       | 19/80 [00:17<00:33,  1.82 MiB/s]\u001b[A\n",
      "Dl Completed...:   0%|          | 0/1 [00:17<?, ? url/s]iB/s]\u001b[A\n",
      "Dl Completed...:   0%|          | 0/1 [00:18<?, ? url/s]iB/s]\u001b[A\n",
      "Dl Completed...:   0%|          | 0/1 [00:18<?, ? url/s]iB/s]\u001b[A\n",
      "Dl Size...:  28%|██▊       | 22/80 [00:18<00:26,  2.21 MiB/s]\u001b[A\n",
      "Dl Completed...:   0%|          | 0/1 [00:19<?, ? url/s]iB/s]\u001b[A\n",
      "Dl Completed...:   0%|          | 0/1 [00:19<?, ? url/s]iB/s]\u001b[A\n",
      "Dl Completed...:   0%|          | 0/1 [00:19<?, ? url/s]iB/s]\u001b[A\n",
      "Dl Size...:  31%|███▏      | 25/80 [00:19<00:23,  2.33 MiB/s]\u001b[A\n",
      "Dl Completed...:   0%|          | 0/1 [00:20<?, ? url/s]iB/s]\u001b[A\n",
      "Dl Completed...:   0%|          | 0/1 [00:20<?, ? url/s]iB/s]\u001b[A\n",
      "Dl Completed...:   0%|          | 0/1 [00:20<?, ? url/s]iB/s]\u001b[A\n",
      "Dl Size...:  35%|███▌      | 28/80 [00:20<00:20,  2.48 MiB/s]\u001b[A\n",
      "Dl Completed...:   0%|          | 0/1 [00:21<?, ? url/s]iB/s]\u001b[A\n",
      "Dl Completed...:   0%|          | 0/1 [00:21<?, ? url/s]iB/s]\u001b[A\n",
      "Dl Completed...:   0%|          | 0/1 [00:21<?, ? url/s]iB/s]\u001b[A\n",
      "Dl Completed...:   0%|          | 0/1 [00:22<?, ? url/s]iB/s]\u001b[A\n",
      "Dl Size...:  40%|████      | 32/80 [00:22<00:18,  2.62 MiB/s]\u001b[A\n",
      "Dl Completed...:   0%|          | 0/1 [00:22<?, ? url/s]iB/s]\u001b[A\n",
      "Dl Completed...:   0%|          | 0/1 [00:22<?, ? url/s]iB/s]\u001b[A\n",
      "Dl Completed...:   0%|          | 0/1 [00:22<?, ? url/s]iB/s]\u001b[A\n",
      "Dl Completed...:   0%|          | 0/1 [00:23<?, ? url/s]iB/s]\u001b[A\n",
      "Dl Size...:  45%|████▌     | 36/80 [00:23<00:15,  2.82 MiB/s]\u001b[A\n",
      "Dl Completed...:   0%|          | 0/1 [00:23<?, ? url/s]iB/s]\u001b[A\n",
      "Dl Completed...:   0%|          | 0/1 [00:23<?, ? url/s]iB/s]\u001b[A\n",
      "Dl Completed...:   0%|          | 0/1 [00:24<?, ? url/s]iB/s]\u001b[A\n",
      "Dl Completed...:   0%|          | 0/1 [00:24<?, ? url/s]iB/s]\u001b[A\n",
      "Dl Size...:  50%|█████     | 40/80 [00:24<00:13,  2.97 MiB/s]\u001b[A\n",
      "Dl Completed...:   0%|          | 0/1 [00:24<?, ? url/s]iB/s]\u001b[A\n",
      "Dl Completed...:   0%|          | 0/1 [00:25<?, ? url/s]iB/s]\u001b[A\n",
      "Dl Completed...:   0%|          | 0/1 [00:25<?, ? url/s]iB/s]\u001b[A\n",
      "Dl Completed...:   0%|          | 0/1 [00:25<?, ? url/s]iB/s]\u001b[A\n",
      "Dl Size...:  55%|█████▌    | 44/80 [00:25<00:11,  3.09 MiB/s]\u001b[A\n",
      "Dl Completed...:   0%|          | 0/1 [00:25<?, ? url/s]iB/s]\u001b[A\n",
      "Dl Completed...:   0%|          | 0/1 [00:26<?, ? url/s]iB/s]\u001b[A\n",
      "Dl Completed...:   0%|          | 0/1 [00:26<?, ? url/s]iB/s]\u001b[A\n",
      "Dl Completed...:   0%|          | 0/1 [00:26<?, ? url/s]iB/s]\u001b[A\n",
      "Dl Size...:  60%|██████    | 48/80 [00:26<00:09,  3.24 MiB/s]\u001b[A\n",
      "Dl Completed...:   0%|          | 0/1 [00:27<?, ? url/s]iB/s]\u001b[A\n",
      "Dl Completed...:   0%|          | 0/1 [00:27<?, ? url/s]iB/s]\u001b[A\n",
      "Dl Completed...:   0%|          | 0/1 [00:27<?, ? url/s]iB/s]\u001b[A\n",
      "Dl Completed...:   0%|          | 0/1 [00:28<?, ? url/s]iB/s]\u001b[A\n",
      "Dl Size...:  65%|██████▌   | 52/80 [00:28<00:08,  3.16 MiB/s]\u001b[A\n",
      "Dl Completed...:   0%|          | 0/1 [00:28<?, ? url/s]iB/s]\u001b[A\n",
      "Dl Completed...:   0%|          | 0/1 [00:28<?, ? url/s]iB/s]\u001b[A\n",
      "Dl Completed...:   0%|          | 0/1 [00:29<?, ? url/s]iB/s]\u001b[A\n",
      "Dl Completed...:   0%|          | 0/1 [00:29<?, ? url/s]iB/s]\u001b[A\n",
      "Dl Size...:  70%|███████   | 56/80 [00:29<00:07,  3.15 MiB/s]\u001b[A\n",
      "Dl Completed...:   0%|          | 0/1 [00:29<?, ? url/s]iB/s]\u001b[A\n",
      "Dl Completed...:   0%|          | 0/1 [00:30<?, ? url/s]iB/s]\u001b[A\n",
      "Dl Completed...:   0%|          | 0/1 [00:30<?, ? url/s]iB/s]\u001b[A\n",
      "Dl Completed...:   0%|          | 0/1 [00:30<?, ? url/s]iB/s]\u001b[A\n",
      "Dl Size...:  75%|███████▌  | 60/80 [00:30<00:06,  3.02 MiB/s]\u001b[A\n",
      "Dl Completed...:   0%|          | 0/1 [00:31<?, ? url/s]iB/s]\u001b[A\n",
      "Dl Completed...:   0%|          | 0/1 [00:31<?, ? url/s]iB/s]\u001b[A\n",
      "Dl Completed...:   0%|          | 0/1 [00:31<?, ? url/s]iB/s]\u001b[A\n",
      "Dl Completed...:   0%|          | 0/1 [00:31<?, ? url/s]iB/s]\u001b[A\n",
      "Dl Size...:  80%|████████  | 64/80 [00:31<00:05,  3.16 MiB/s]\u001b[A\n",
      "Dl Completed...:   0%|          | 0/1 [00:32<?, ? url/s]iB/s]\u001b[A\n",
      "Dl Completed...:   0%|          | 0/1 [00:32<?, ? url/s]iB/s]\u001b[A\n",
      "Dl Completed...:   0%|          | 0/1 [00:32<?, ? url/s]iB/s]\u001b[A\n",
      "Dl Completed...:   0%|          | 0/1 [00:32<?, ? url/s]iB/s]\u001b[A\n",
      "Dl Size...:  85%|████████▌ | 68/80 [00:32<00:03,  3.28 MiB/s]\u001b[A\n",
      "Dl Completed...:   0%|          | 0/1 [00:33<?, ? url/s]iB/s]\u001b[A\n",
      "Dl Completed...:   0%|          | 0/1 [00:33<?, ? url/s]iB/s]\u001b[A\n",
      "Dl Completed...:   0%|          | 0/1 [00:33<?, ? url/s]iB/s]\u001b[A\n",
      "Dl Completed...:   0%|          | 0/1 [00:34<?, ? url/s]iB/s]\u001b[A\n",
      "Dl Size...:  90%|█████████ | 72/80 [00:34<00:02,  3.45 MiB/s]\u001b[A\n",
      "Dl Completed...:   0%|          | 0/1 [00:34<?, ? url/s]iB/s]\u001b[A\n",
      "Dl Completed...:   0%|          | 0/1 [00:34<?, ? url/s]iB/s]\u001b[A\n",
      "Dl Completed...:   0%|          | 0/1 [00:34<?, ? url/s]iB/s]\u001b[A\n",
      "Dl Completed...:   0%|          | 0/1 [00:35<?, ? url/s]iB/s]\u001b[A\n",
      "Dl Completed...:   0%|          | 0/1 [00:35<?, ? url/s]iB/s]\u001b[A\n",
      "Dl Size...:  96%|█████████▋| 77/80 [00:35<00:00,  3.49 MiB/s]\u001b[A\n",
      "Dl Completed...:   0%|          | 0/1 [00:35<?, ? url/s]iB/s]\u001b[A\n",
      "Dl Completed...:   0%|          | 0/1 [00:35<?, ? url/s]iB/s]\u001b[A\n",
      "Dl Completed...:   0%|          | 0/1 [00:35<?, ? url/s]iB/s]\u001b[A\n",
      "Dl Completed...: 100%|██████████| 1/1 [00:35<00:00, 35.94s/ url]\n",
      "Dl Size...: 100%|██████████| 80/80 [00:35<00:00,  2.22 MiB/s]\u001b[A\n",
      "Dl Completed...: 100%|██████████| 1/1 [00:35<00:00, 35.96s/ url]\n",
      "Generating splits...:   0%|          | 0/3 [00:00<?, ? splits/s]\n",
      "Generating train examples...: 0 examples [00:00, ? examples/s]\u001b[A\n",
      "Generating train examples...: 1 examples [00:02,  2.76s/ examples]\u001b[A\n",
      "Generating train examples...: 1979 examples [00:03, 674.92 examples/s]\u001b[A\n",
      "Generating train examples...: 3977 examples [00:04, 1108.29 examples/s]\u001b[A\n",
      "Generating train examples...: 5910 examples [00:05, 1370.98 examples/s]\u001b[A\n",
      "Generating train examples...: 7750 examples [00:06, 1517.28 examples/s]\u001b[A\n",
      "Generating train examples...: 9665 examples [00:07, 1639.64 examples/s]\u001b[A\n",
      "Generating train examples...: 11537 examples [00:08, 1710.54 examples/s]\u001b[A\n",
      "Generating train examples...: 13553 examples [00:09, 1803.21 examples/s]\u001b[A\n",
      "Generating train examples...: 15440 examples [00:10, 1793.02 examples/s]\u001b[A\n",
      "Generating train examples...: 17291 examples [00:11, 1761.89 examples/s]\u001b[A\n",
      "Generating train examples...: 19094 examples [00:12, 1750.53 examples/s]\u001b[A\n",
      "Generating train examples...: 21332 examples [00:13, 1892.77 examples/s]\u001b[A\n",
      "Generating train examples...: 23295 examples [00:14, 1913.26 examples/s]\u001b[A\n",
      "                                                                        \u001b[A\n",
      "Shuffling C:\\Users\\HP\\tensorflow_datasets\\imdb_reviews\\plain_text\\1.0.0.incompleteBTQZZM\\imdb_reviews-train.tfrecord*...:   0%|          | 0/25000 [00:00<?, ? examples/s]\u001b[A\n",
      "Shuffling C:\\Users\\HP\\tensorflow_datasets\\imdb_reviews\\plain_text\\1.0.0.incompleteBTQZZM\\imdb_reviews-train.tfrecord*...:  15%|█▌        | 3803/25000 [00:00<00:00, 37796.73 examples/s]\u001b[A\n",
      "Shuffling C:\\Users\\HP\\tensorflow_datasets\\imdb_reviews\\plain_text\\1.0.0.incompleteBTQZZM\\imdb_reviews-train.tfrecord*...:  37%|███▋      | 9318/25000 [00:00<00:00, 47832.88 examples/s]\u001b[A\n",
      "Shuffling C:\\Users\\HP\\tensorflow_datasets\\imdb_reviews\\plain_text\\1.0.0.incompleteBTQZZM\\imdb_reviews-train.tfrecord*...:  63%|██████▎   | 15640/25000 [00:00<00:00, 54591.20 examples/s]\u001b[A\n",
      "Shuffling C:\\Users\\HP\\tensorflow_datasets\\imdb_reviews\\plain_text\\1.0.0.incompleteBTQZZM\\imdb_reviews-train.tfrecord*...:  84%|████████▍ | 21098/25000 [00:00<00:00, 53477.32 examples/s]\u001b[A\n",
      "Generating splits...:  33%|███▎      | 1/3 [00:20<00:41, 20.89s/ splits]                                                                                                                 \u001b[A\n",
      "Generating test examples...: 0 examples [00:00, ? examples/s]\u001b[A\n",
      "Generating test examples...: 751 examples [00:01, 750.31 examples/s]\u001b[A\n",
      "Generating test examples...: 2545 examples [00:02, 1363.38 examples/s]\u001b[A\n",
      "Generating test examples...: 4293 examples [00:03, 1538.82 examples/s]\u001b[A\n",
      "Generating test examples...: 6013 examples [00:04, 1610.23 examples/s]\u001b[A\n",
      "Generating test examples...: 7624 examples [00:05, 1330.07 examples/s]\u001b[A\n",
      "Generating test examples...: 9021 examples [00:06, 1236.07 examples/s]\u001b[A\n",
      "Generating test examples...: 10501 examples [00:07, 1304.47 examples/s]\u001b[A\n",
      "Generating test examples...: 12187 examples [00:08, 1413.52 examples/s]\u001b[A\n",
      "Generating test examples...: 13835 examples [00:09, 1480.96 examples/s]\u001b[A\n",
      "Generating test examples...: 15603 examples [00:10, 1564.57 examples/s]\u001b[A\n",
      "Generating test examples...: 17227 examples [00:11, 1582.06 examples/s]\u001b[A\n",
      "Generating test examples...: 18830 examples [00:13, 1504.81 examples/s]\u001b[A\n",
      "Generating test examples...: 20471 examples [00:14, 1543.55 examples/s]\u001b[A\n",
      "Generating test examples...: 22130 examples [00:15, 1577.03 examples/s]\u001b[A\n",
      "Generating test examples...: 23721 examples [00:16, 1561.69 examples/s]\u001b[A\n",
      "                                                                       \u001b[A\n",
      "Shuffling C:\\Users\\HP\\tensorflow_datasets\\imdb_reviews\\plain_text\\1.0.0.incompleteBTQZZM\\imdb_reviews-test.tfrecord*...:   0%|          | 0/25000 [00:00<?, ? examples/s]\u001b[A\n",
      "Shuffling C:\\Users\\HP\\tensorflow_datasets\\imdb_reviews\\plain_text\\1.0.0.incompleteBTQZZM\\imdb_reviews-test.tfrecord*...:  14%|█▍        | 3508/25000 [00:00<00:00, 34861.93 examples/s]\u001b[A\n",
      "Shuffling C:\\Users\\HP\\tensorflow_datasets\\imdb_reviews\\plain_text\\1.0.0.incompleteBTQZZM\\imdb_reviews-test.tfrecord*...:  30%|███       | 7540/25000 [00:00<00:00, 38032.68 examples/s]\u001b[A\n",
      "Shuffling C:\\Users\\HP\\tensorflow_datasets\\imdb_reviews\\plain_text\\1.0.0.incompleteBTQZZM\\imdb_reviews-test.tfrecord*...:  47%|████▋     | 11853/25000 [00:00<00:00, 40233.35 examples/s]\u001b[A\n",
      "Shuffling C:\\Users\\HP\\tensorflow_datasets\\imdb_reviews\\plain_text\\1.0.0.incompleteBTQZZM\\imdb_reviews-test.tfrecord*...:  64%|██████▎   | 15914/25000 [00:00<00:00, 40321.42 examples/s]\u001b[A\n",
      "Shuffling C:\\Users\\HP\\tensorflow_datasets\\imdb_reviews\\plain_text\\1.0.0.incompleteBTQZZM\\imdb_reviews-test.tfrecord*...:  80%|████████  | 20049/25000 [00:00<00:00, 40601.59 examples/s]\u001b[A\n",
      "Shuffling C:\\Users\\HP\\tensorflow_datasets\\imdb_reviews\\plain_text\\1.0.0.incompleteBTQZZM\\imdb_reviews-test.tfrecord*...:  99%|█████████▉| 24719/25000 [00:00<00:00, 42596.19 examples/s]\u001b[A\n",
      "Generating splits...:  67%|██████▋   | 2/3 [00:46<00:23, 23.52s/ splits]                                                                                                                \u001b[A\n",
      "Generating unsupervised examples...: 0 examples [00:00, ? examples/s]\u001b[A\n",
      "Generating unsupervised examples...: 1 examples [00:06,  6.48s/ examples]\u001b[A\n",
      "Generating unsupervised examples...: 1542 examples [00:07, 278.41 examples/s]\u001b[A\n",
      "Generating unsupervised examples...: 3064 examples [00:08, 533.42 examples/s]\u001b[A\n",
      "Generating unsupervised examples...: 4753 examples [00:09, 795.18 examples/s]\u001b[A\n",
      "Generating unsupervised examples...: 6247 examples [00:10, 966.02 examples/s]\u001b[A\n",
      "Generating unsupervised examples...: 7672 examples [00:12, 946.02 examples/s]\u001b[A\n",
      "Generating unsupervised examples...: 8922 examples [00:13, 969.48 examples/s]\u001b[A\n",
      "Generating unsupervised examples...: 10277 examples [00:14, 1065.20 examples/s]\u001b[A\n",
      "Generating unsupervised examples...: 11592 examples [00:15, 1130.60 examples/s]\u001b[A\n",
      "Generating unsupervised examples...: 13139 examples [00:16, 1244.01 examples/s]\u001b[A\n",
      "Generating unsupervised examples...: 14679 examples [00:17, 1326.86 examples/s]\u001b[A\n",
      "Generating unsupervised examples...: 16239 examples [00:18, 1393.41 examples/s]\u001b[A\n",
      "Generating unsupervised examples...: 17693 examples [00:19, 1359.28 examples/s]\u001b[A\n",
      "Generating unsupervised examples...: 19379 examples [00:20, 1452.30 examples/s]\u001b[A\n",
      "Generating unsupervised examples...: 20867 examples [00:21, 1461.67 examples/s]\u001b[A\n",
      "Generating unsupervised examples...: 22525 examples [00:22, 1518.96 examples/s]\u001b[A\n",
      "Generating unsupervised examples...: 24462 examples [00:23, 1641.73 examples/s]\u001b[A\n",
      "Generating unsupervised examples...: 26456 examples [00:24, 1745.50 examples/s]\u001b[A\n",
      "Generating unsupervised examples...: 28345 examples [00:25, 1787.64 examples/s]\u001b[A\n",
      "Generating unsupervised examples...: 30270 examples [00:26, 1828.55 examples/s]\u001b[A\n",
      "Generating unsupervised examples...: 32106 examples [00:28, 1537.57 examples/s]\u001b[A\n",
      "Generating unsupervised examples...: 33727 examples [00:29, 1476.22 examples/s]\u001b[A\n",
      "Generating unsupervised examples...: 35579 examples [00:30, 1574.93 examples/s]\u001b[A\n",
      "Generating unsupervised examples...: 37585 examples [00:31, 1692.50 examples/s]\u001b[A\n",
      "Generating unsupervised examples...: 39328 examples [00:32, 1704.13 examples/s]\u001b[A\n",
      "Generating unsupervised examples...: 41111 examples [00:33, 1726.44 examples/s]\u001b[A\n",
      "Generating unsupervised examples...: 43147 examples [00:34, 1815.79 examples/s]\u001b[A\n",
      "Generating unsupervised examples...: 45189 examples [00:35, 1881.59 examples/s]\u001b[A\n",
      "Generating unsupervised examples...: 47300 examples [00:36, 1948.67 examples/s]\u001b[A\n",
      "Generating unsupervised examples...: 49417 examples [00:37, 1998.39 examples/s]\u001b[A\n",
      "                                                                               \u001b[A\n",
      "Shuffling C:\\Users\\HP\\tensorflow_datasets\\imdb_reviews\\plain_text\\1.0.0.incompleteBTQZZM\\imdb_reviews-unsupervised.tfrecord*...:   0%|          | 0/50000 [00:00<?, ? examples/s]\u001b[A\n",
      "Shuffling C:\\Users\\HP\\tensorflow_datasets\\imdb_reviews\\plain_text\\1.0.0.incompleteBTQZZM\\imdb_reviews-unsupervised.tfrecord*...:   6%|▌         | 3056/50000 [00:00<00:01, 30499.96 examples/s]\u001b[A\n",
      "Shuffling C:\\Users\\HP\\tensorflow_datasets\\imdb_reviews\\plain_text\\1.0.0.incompleteBTQZZM\\imdb_reviews-unsupervised.tfrecord*...:  19%|█▊        | 9267/50000 [00:00<00:00, 48844.30 examples/s]\u001b[A\n",
      "Shuffling C:\\Users\\HP\\tensorflow_datasets\\imdb_reviews\\plain_text\\1.0.0.incompleteBTQZZM\\imdb_reviews-unsupervised.tfrecord*...:  28%|██▊       | 14147/50000 [00:00<00:00, 44980.79 examples/s]\u001b[A\n",
      "Shuffling C:\\Users\\HP\\tensorflow_datasets\\imdb_reviews\\plain_text\\1.0.0.incompleteBTQZZM\\imdb_reviews-unsupervised.tfrecord*...:  41%|████      | 20495/50000 [00:00<00:00, 51754.13 examples/s]\u001b[A\n",
      "Shuffling C:\\Users\\HP\\tensorflow_datasets\\imdb_reviews\\plain_text\\1.0.0.incompleteBTQZZM\\imdb_reviews-unsupervised.tfrecord*...:  51%|█████▏    | 25722/50000 [00:00<00:00, 50440.38 examples/s]\u001b[A\n",
      "Shuffling C:\\Users\\HP\\tensorflow_datasets\\imdb_reviews\\plain_text\\1.0.0.incompleteBTQZZM\\imdb_reviews-unsupervised.tfrecord*...:  62%|██████▏   | 30896/50000 [00:00<00:00, 50747.87 examples/s]\u001b[A\n",
      "Shuffling C:\\Users\\HP\\tensorflow_datasets\\imdb_reviews\\plain_text\\1.0.0.incompleteBTQZZM\\imdb_reviews-unsupervised.tfrecord*...:  72%|███████▏  | 35995/50000 [00:00<00:00, 49242.94 examples/s]\u001b[A\n",
      "Shuffling C:\\Users\\HP\\tensorflow_datasets\\imdb_reviews\\plain_text\\1.0.0.incompleteBTQZZM\\imdb_reviews-unsupervised.tfrecord*...:  84%|████████▍ | 41909/50000 [00:00<00:00, 52176.74 examples/s]\u001b[A\n",
      "Shuffling C:\\Users\\HP\\tensorflow_datasets\\imdb_reviews\\plain_text\\1.0.0.incompleteBTQZZM\\imdb_reviews-unsupervised.tfrecord*...:  94%|█████████▍| 47153/50000 [00:00<00:00, 49734.26 examples/s]\u001b[A\n",
      "                                                                                                                                                                                                \u001b[A\r"
     ]
    },
    {
     "name": "stdout",
     "output_type": "stream",
     "text": [
      "\u001b[1mDataset imdb_reviews downloaded and prepared to C:\\Users\\HP\\tensorflow_datasets\\imdb_reviews\\plain_text\\1.0.0. Subsequent calls will reuse this data.\u001b[0m\n"
     ]
    }
   ],
   "source": [
    "train_data, validation_data, test_data = tfds.load(\n",
    "    name=\"imdb_reviews\", \n",
    "    split=('train[:60%]', 'train[60%:]', 'test'),\n",
    "    as_supervised=True)"
   ]
  },
  {
   "cell_type": "code",
   "execution_count": 14,
   "id": "8fe84ce4-fcaa-41f2-b1f8-35357deb028c",
   "metadata": {},
   "outputs": [
    {
     "data": {
      "text/plain": [
       "<PrefetchDataset element_spec=(TensorSpec(shape=(), dtype=tf.string, name=None), TensorSpec(shape=(), dtype=tf.int64, name=None))>"
      ]
     },
     "execution_count": 14,
     "metadata": {},
     "output_type": "execute_result"
    }
   ],
   "source": [
    "train_data"
   ]
  },
  {
   "cell_type": "code",
   "execution_count": 15,
   "id": "b9c1521b-d0bc-4616-9506-d268002eb32e",
   "metadata": {},
   "outputs": [],
   "source": [
    "train_example_batch,train_labels_batch = next(iter(train_data.batch(10)))"
   ]
  },
  {
   "cell_type": "code",
   "execution_count": 16,
   "id": "19c03fee-0789-43a8-a56f-b6ef25e53e81",
   "metadata": {},
   "outputs": [
    {
     "data": {
      "text/plain": [
       "<tf.Tensor: shape=(10,), dtype=string, numpy=\n",
       "array([b\"This was an absolutely terrible movie. Don't be lured in by Christopher Walken or Michael Ironside. Both are great actors, but this must simply be their worst role in history. Even their great acting could not redeem this movie's ridiculous storyline. This movie is an early nineties US propaganda piece. The most pathetic scenes were those when the Columbian rebels were making their cases for revolutions. Maria Conchita Alonso appeared phony, and her pseudo-love affair with Walken was nothing but a pathetic emotional plug in a movie that was devoid of any real meaning. I am disappointed that there are movies like this, ruining actor's like Christopher Walken's good name. I could barely sit through it.\",\n",
       "       b'I have been known to fall asleep during films, but this is usually due to a combination of things including, really tired, being warm and comfortable on the sette and having just eaten a lot. However on this occasion I fell asleep because the film was rubbish. The plot development was constant. Constantly slow and boring. Things seemed to happen, but with no explanation of what was causing them or why. I admit, I may have missed part of the film, but i watched the majority of it and everything just seemed to happen of its own accord without any real concern for anything else. I cant recommend this film at all.',\n",
       "       b'Mann photographs the Alberta Rocky Mountains in a superb fashion, and Jimmy Stewart and Walter Brennan give enjoyable performances as they always seem to do. <br /><br />But come on Hollywood - a Mountie telling the people of Dawson City, Yukon to elect themselves a marshal (yes a marshal!) and to enforce the law themselves, then gunfighters battling it out on the streets for control of the town? <br /><br />Nothing even remotely resembling that happened on the Canadian side of the border during the Klondike gold rush. Mr. Mann and company appear to have mistaken Dawson City for Deadwood, the Canadian North for the American Wild West.<br /><br />Canadian viewers be prepared for a Reefer Madness type of enjoyable howl with this ludicrous plot, or, to shake your head in disgust.',\n",
       "       b'This is the kind of film for a snowy Sunday afternoon when the rest of the world can go ahead with its own business as you descend into a big arm-chair and mellow for a couple of hours. Wonderful performances from Cher and Nicolas Cage (as always) gently row the plot along. There are no rapids to cross, no dangerous waters, just a warm and witty paddle through New York life at its best. A family film in every sense and one that deserves the praise it received.',\n",
       "       b'As others have mentioned, all the women that go nude in this film are mostly absolutely gorgeous. The plot very ably shows the hypocrisy of the female libido. When men are around they want to be pursued, but when no \"men\" are around, they become the pursuers of a 14 year old boy. And the boy becomes a man really fast (we should all be so lucky at this age!). He then gets up the courage to pursue his true love.',\n",
       "       b\"This is a film which should be seen by anybody interested in, effected by, or suffering from an eating disorder. It is an amazingly accurate and sensitive portrayal of bulimia in a teenage girl, its causes and its symptoms. The girl is played by one of the most brilliant young actresses working in cinema today, Alison Lohman, who was later so spectacular in 'Where the Truth Lies'. I would recommend that this film be shown in all schools, as you will never see a better on this subject. Alison Lohman is absolutely outstanding, and one marvels at her ability to convey the anguish of a girl suffering from this compulsive disorder. If barometers tell us the air pressure, Alison Lohman tells us the emotional pressure with the same degree of accuracy. Her emotional range is so precise, each scene could be measured microscopically for its gradations of trauma, on a scale of rising hysteria and desperation which reaches unbearable intensity. Mare Winningham is the perfect choice to play her mother, and does so with immense sympathy and a range of emotions just as finely tuned as Lohman's. Together, they make a pair of sensitive emotional oscillators vibrating in resonance with one another. This film is really an astonishing achievement, and director Katt Shea should be proud of it. The only reason for not seeing it is if you are not interested in people. But even if you like nature films best, this is after all animal behaviour at the sharp edge. Bulimia is an extreme version of how a tormented soul can destroy her own body in a frenzy of despair. And if we don't sympathise with people suffering from the depths of despair, then we are dead inside.\",\n",
       "       b'Okay, you have:<br /><br />Penelope Keith as Miss Herringbone-Tweed, B.B.E. (Backbone of England.) She\\'s killed off in the first scene - that\\'s right, folks; this show has no backbone!<br /><br />Peter O\\'Toole as Ol\\' Colonel Cricket from The First War and now the emblazered Lord of the Manor.<br /><br />Joanna Lumley as the ensweatered Lady of the Manor, 20 years younger than the colonel and 20 years past her own prime but still glamourous (Brit spelling, not mine) enough to have a toy-boy on the side. It\\'s alright, they have Col. Cricket\\'s full knowledge and consent (they guy even comes \\'round for Christmas!) Still, she\\'s considerate of the colonel enough to have said toy-boy her own age (what a gal!)<br /><br />David McCallum as said toy-boy, equally as pointlessly glamourous as his squeeze. Pilcher couldn\\'t come up with any cover for him within the story, so she gave him a hush-hush job at the Circus.<br /><br />and finally:<br /><br />Susan Hampshire as Miss Polonia Teacups, Venerable Headmistress of the Venerable Girls\\' Boarding-School, serving tea in her office with a dash of deep, poignant advice for life in the outside world just before graduation. Her best bit of advice: \"I\\'ve only been to Nancherrow (the local Stately Home of England) once. I thought it was very beautiful but, somehow, not part of the real world.\" Well, we can\\'t say they didn\\'t warn us.<br /><br />Ah, Susan - time was, your character would have been running the whole show. They don\\'t write \\'em like that any more. Our loss, not yours.<br /><br />So - with a cast and setting like this, you have the re-makings of \"Brideshead Revisited,\" right?<br /><br />Wrong! They took these 1-dimensional supporting roles because they paid so well. After all, acting is one of the oldest temp-jobs there is (YOU name another!)<br /><br />First warning sign: lots and lots of backlighting. They get around it by shooting outdoors - \"hey, it\\'s just the sunlight!\"<br /><br />Second warning sign: Leading Lady cries a lot. When not crying, her eyes are moist. That\\'s the law of romance novels: Leading Lady is \"dewy-eyed.\"<br /><br />Henceforth, Leading Lady shall be known as L.L.<br /><br />Third warning sign: L.L. actually has stars in her eyes when she\\'s in love. Still, I\\'ll give Emily Mortimer an award just for having to act with that spotlight in her eyes (I wonder . did they use contacts?)<br /><br />And lastly, fourth warning sign: no on-screen female character is \"Mrs.\" She\\'s either \"Miss\" or \"Lady.\"<br /><br />When all was said and done, I still couldn\\'t tell you who was pursuing whom and why. I couldn\\'t even tell you what was said and done.<br /><br />To sum up: they all live through World War II without anything happening to them at all.<br /><br />OK, at the end, L.L. finds she\\'s lost her parents to the Japanese prison camps and baby sis comes home catatonic. Meanwhile (there\\'s always a \"meanwhile,\") some young guy L.L. had a crush on (when, I don\\'t know) comes home from some wartime tough spot and is found living on the street by Lady of the Manor (must be some street if SHE\\'s going to find him there.) Both war casualties are whisked away to recover at Nancherrow (SOMEBODY has to be \"whisked away\" SOMEWHERE in these romance stories!)<br /><br />Great drama.',\n",
       "       b'The film is based on a genuine 1950s novel.<br /><br />Journalist Colin McInnes wrote a set of three \"London novels\": \"Absolute Beginners\", \"City of Spades\" and \"Mr Love and Justice\". I have read all three. The first two are excellent. The last, perhaps an experiment that did not come off. But McInnes\\'s work is highly acclaimed; and rightly so. This musical is the novelist\\'s ultimate nightmare - to see the fruits of one\\'s mind being turned into a glitzy, badly-acted, soporific one-dimensional apology of a film that says it captures the spirit of 1950s London, and does nothing of the sort.<br /><br />Thank goodness Colin McInnes wasn\\'t alive to witness it.',\n",
       "       b'I really love the sexy action and sci-fi films of the sixties and its because of the actress\\'s that appeared in them. They found the sexiest women to be in these films and it didn\\'t matter if they could act (Remember \"Candy\"?). The reason I was disappointed by this film was because it wasn\\'t nostalgic enough. The story here has a European sci-fi film called \"Dragonfly\" being made and the director is fired. So the producers decide to let a young aspiring filmmaker (Jeremy Davies) to complete the picture. They\\'re is one real beautiful woman in the film who plays Dragonfly but she\\'s barely in it. Film is written and directed by Roman Coppola who uses some of his fathers exploits from his early days and puts it into the script. I wish the film could have been an homage to those early films. They could have lots of cameos by actors who appeared in them. There is one actor in this film who was popular from the sixties and its John Phillip Law (Barbarella). Gerard Depardieu, Giancarlo Giannini and Dean Stockwell appear as well. I guess I\\'m going to have to continue waiting for a director to make a good homage to the films of the sixties. If any are reading this, \"Make it as sexy as you can\"! I\\'ll be waiting!',\n",
       "       b'Sure, this one isn\\'t really a blockbuster, nor does it target such a position. \"Dieter\" is the first name of a quite popular German musician, who is either loved or hated for his kind of acting and thats exactly what this movie is about. It is based on the autobiography \"Dieter Bohlen\" wrote a few years ago but isn\\'t meant to be accurate on that. The movie is filled with some sexual offensive content (at least for American standard) which is either amusing (not for the other \"actors\" of course) or dumb - it depends on your individual kind of humor or on you being a \"Bohlen\"-Fan or not. Technically speaking there isn\\'t much to criticize. Speaking of me I find this movie to be an OK-movie.'],\n",
       "      dtype=object)>"
      ]
     },
     "execution_count": 16,
     "metadata": {},
     "output_type": "execute_result"
    }
   ],
   "source": [
    "train_example_batch"
   ]
  },
  {
   "cell_type": "code",
   "execution_count": 17,
   "id": "5af2da6a-099b-4b2f-ace8-03ce8d09308a",
   "metadata": {},
   "outputs": [
    {
     "data": {
      "text/plain": [
       "<tf.Tensor: shape=(10,), dtype=int64, numpy=array([0, 0, 0, 1, 1, 1, 0, 0, 0, 0], dtype=int64)>"
      ]
     },
     "execution_count": 17,
     "metadata": {},
     "output_type": "execute_result"
    }
   ],
   "source": [
    "train_labels_batch"
   ]
  },
  {
   "cell_type": "code",
   "execution_count": 22,
   "id": "ff95dcea-8755-45e7-ab08-886599146704",
   "metadata": {},
   "outputs": [],
   "source": [
    "#emmbedding\n",
    "embedding=\"https://tfhub.dev/google/tf2-preview/gnews-swivel-20dim/1\"\n",
    "hub_layer=hub.KerasLayer(embedding, input_shape= [],dtype=tf.string, trainable=True)"
   ]
  },
  {
   "cell_type": "code",
   "execution_count": 23,
   "id": "45a7d8bb-f516-4b82-a66a-7849af81ad9d",
   "metadata": {},
   "outputs": [
    {
     "data": {
      "text/plain": [
       "<tf.Tensor: shape=(3, 20), dtype=float32, numpy=\n",
       "array([[ 1.765786  , -3.882232  ,  3.9134233 , -1.5557289 , -3.3362343 ,\n",
       "        -1.7357955 , -1.9954445 ,  1.2989551 ,  5.081598  , -1.1041286 ,\n",
       "        -2.0503852 , -0.72675157, -0.65675956,  0.24436149, -3.7208383 ,\n",
       "         2.0954835 ,  2.2969332 , -2.0689783 , -2.9489717 , -1.1315987 ],\n",
       "       [ 1.8804485 , -2.5852382 ,  3.4066997 ,  1.0982676 , -4.056685  ,\n",
       "        -4.891284  , -2.785554  ,  1.3874227 ,  3.8476458 , -0.9256538 ,\n",
       "        -1.896706  ,  1.2113281 ,  0.11474707,  0.76209456, -4.8791065 ,\n",
       "         2.906149  ,  4.7087674 , -2.3652055 , -3.5015898 , -1.6390051 ],\n",
       "       [ 0.71152234, -0.6353217 ,  1.7385626 , -1.1168286 , -0.5451594 ,\n",
       "        -1.1808156 ,  0.09504455,  1.4653089 ,  0.66059524,  0.79308075,\n",
       "        -2.2268345 ,  0.07446612, -1.4075904 , -0.70645386, -1.907037  ,\n",
       "         1.4419787 ,  1.9551861 , -0.42660055, -2.8022065 ,  0.43727064]],\n",
       "      dtype=float32)>"
      ]
     },
     "execution_count": 23,
     "metadata": {},
     "output_type": "execute_result"
    }
   ],
   "source": [
    "hub_layer(train_example_batch[:3])"
   ]
  },
  {
   "cell_type": "code",
   "execution_count": 28,
   "id": "656216aa-1af3-4857-9ceb-f08484e677dd",
   "metadata": {
    "scrolled": true
   },
   "outputs": [
    {
     "name": "stdout",
     "output_type": "stream",
     "text": [
      "Model: \"sequential_3\"\n",
      "_________________________________________________________________\n",
      " Layer (type)                Output Shape              Param #   \n",
      "=================================================================\n",
      " keras_layer_1 (KerasLayer)  (None, 20)                400020    \n",
      "                                                                 \n",
      " dense_4 (Dense)             (None, 16)                336       \n",
      "                                                                 \n",
      " dense_5 (Dense)             (None, 1)                 17        \n",
      "                                                                 \n",
      "=================================================================\n",
      "Total params: 400,373\n",
      "Trainable params: 400,373\n",
      "Non-trainable params: 0\n",
      "_________________________________________________________________\n"
     ]
    }
   ],
   "source": [
    "model = tf.keras.Sequential()\n",
    "model.add(hub_layer)\n",
    "model.add(tf.keras.layers.Dense(16, activation='relu'))\n",
    "model.add(tf.keras.layers.Dense(1))\n",
    "model.summary()"
   ]
  },
  {
   "cell_type": "code",
   "execution_count": null,
   "id": "6b6b3908-be27-49ec-be81-4b990f8c3b2f",
   "metadata": {},
   "outputs": [],
   "source": []
  },
  {
   "cell_type": "code",
   "execution_count": 29,
   "id": "bdc4044e-067c-43e8-bb23-8677cc139ec8",
   "metadata": {},
   "outputs": [],
   "source": [
    "model.compile(optimizer='adam',loss=tf.keras.losses.BinaryCrossentropy(from_logits=True),metrics=['accuracy'])"
   ]
  },
  {
   "cell_type": "code",
   "execution_count": 33,
   "id": "1d942acb-9d88-44b7-9746-be24b743d6b7",
   "metadata": {},
   "outputs": [
    {
     "name": "stdout",
     "output_type": "stream",
     "text": [
      "Epoch 1/25\n",
      "150/150 [==============================] - 2s 16ms/step - loss: 0.2845 - accuracy: 0.8818 - val_loss: 0.3302 - val_accuracy: 0.8410\n",
      "Epoch 2/25\n",
      "150/150 [==============================] - 3s 17ms/step - loss: 0.2278 - accuracy: 0.9073 - val_loss: 0.3071 - val_accuracy: 0.8661\n",
      "Epoch 3/25\n",
      "150/150 [==============================] - 3s 22ms/step - loss: 0.1918 - accuracy: 0.9257 - val_loss: 0.3036 - val_accuracy: 0.8719\n",
      "Epoch 4/25\n",
      "150/150 [==============================] - 4s 25ms/step - loss: 0.1641 - accuracy: 0.9406 - val_loss: 0.3113 - val_accuracy: 0.8608\n",
      "Epoch 5/25\n",
      "150/150 [==============================] - 4s 29ms/step - loss: 0.1417 - accuracy: 0.9494 - val_loss: 0.3089 - val_accuracy: 0.8737\n",
      "Epoch 6/25\n",
      "150/150 [==============================] - 3s 22ms/step - loss: 0.1225 - accuracy: 0.9593 - val_loss: 0.3168 - val_accuracy: 0.8717\n",
      "Epoch 7/25\n",
      "150/150 [==============================] - 4s 23ms/step - loss: 0.1051 - accuracy: 0.9659 - val_loss: 0.3295 - val_accuracy: 0.8679\n",
      "Epoch 8/25\n",
      "150/150 [==============================] - 4s 24ms/step - loss: 0.0915 - accuracy: 0.9721 - val_loss: 0.3405 - val_accuracy: 0.8708\n",
      "Epoch 9/25\n",
      "150/150 [==============================] - 5s 30ms/step - loss: 0.0780 - accuracy: 0.9767 - val_loss: 0.3582 - val_accuracy: 0.8709\n",
      "Epoch 10/25\n",
      "150/150 [==============================] - 4s 26ms/step - loss: 0.0666 - accuracy: 0.9815 - val_loss: 0.3722 - val_accuracy: 0.8673\n",
      "Epoch 11/25\n",
      "150/150 [==============================] - 5s 33ms/step - loss: 0.0560 - accuracy: 0.9863 - val_loss: 0.3915 - val_accuracy: 0.8644\n",
      "Epoch 12/25\n",
      "150/150 [==============================] - 5s 31ms/step - loss: 0.0477 - accuracy: 0.9892 - val_loss: 0.4136 - val_accuracy: 0.8670\n",
      "Epoch 13/25\n",
      "150/150 [==============================] - 5s 30ms/step - loss: 0.0393 - accuracy: 0.9925 - val_loss: 0.4318 - val_accuracy: 0.8623\n",
      "Epoch 14/25\n",
      "150/150 [==============================] - 4s 29ms/step - loss: 0.0338 - accuracy: 0.9940 - val_loss: 0.4571 - val_accuracy: 0.8633\n",
      "Epoch 15/25\n",
      "150/150 [==============================] - 4s 27ms/step - loss: 0.0275 - accuracy: 0.9957 - val_loss: 0.4770 - val_accuracy: 0.8600\n",
      "Epoch 16/25\n",
      "150/150 [==============================] - 5s 31ms/step - loss: 0.0227 - accuracy: 0.9972 - val_loss: 0.4999 - val_accuracy: 0.8590\n",
      "Epoch 17/25\n",
      "150/150 [==============================] - 4s 23ms/step - loss: 0.0184 - accuracy: 0.9978 - val_loss: 0.5216 - val_accuracy: 0.8583\n",
      "Epoch 18/25\n",
      "150/150 [==============================] - 4s 24ms/step - loss: 0.0150 - accuracy: 0.9984 - val_loss: 0.5463 - val_accuracy: 0.8583\n",
      "Epoch 19/25\n",
      "150/150 [==============================] - 4s 24ms/step - loss: 0.0122 - accuracy: 0.9994 - val_loss: 0.5694 - val_accuracy: 0.8585\n",
      "Epoch 20/25\n",
      "150/150 [==============================] - 4s 30ms/step - loss: 0.0101 - accuracy: 0.9995 - val_loss: 0.5903 - val_accuracy: 0.8570\n",
      "Epoch 21/25\n",
      "150/150 [==============================] - 4s 24ms/step - loss: 0.0081 - accuracy: 0.9997 - val_loss: 0.6136 - val_accuracy: 0.8567\n",
      "Epoch 22/25\n",
      "150/150 [==============================] - 4s 25ms/step - loss: 0.0068 - accuracy: 0.9998 - val_loss: 0.6356 - val_accuracy: 0.8574\n",
      "Epoch 23/25\n",
      "150/150 [==============================] - 4s 25ms/step - loss: 0.0056 - accuracy: 0.9999 - val_loss: 0.6554 - val_accuracy: 0.8554\n",
      "Epoch 24/25\n",
      "150/150 [==============================] - 4s 30ms/step - loss: 0.0047 - accuracy: 0.9999 - val_loss: 0.6753 - val_accuracy: 0.8556\n",
      "Epoch 25/25\n",
      "150/150 [==============================] - 4s 24ms/step - loss: 0.0040 - accuracy: 1.0000 - val_loss: 0.6998 - val_accuracy: 0.8564\n"
     ]
    }
   ],
   "source": [
    "history = model.fit(train_data.shuffle(10000).batch(100),epochs=25,validation_data=validation_data.batch(100),verbose=1)"
   ]
  },
  {
   "cell_type": "code",
   "execution_count": 35,
   "id": "4f2de176-09c5-45ff-97aa-ed2cf053ca8d",
   "metadata": {},
   "outputs": [
    {
     "name": "stdout",
     "output_type": "stream",
     "text": [
      "50/50 - 2s - loss: 0.7816 - accuracy: 0.8365 - 2s/epoch - 32ms/step\n",
      "loss: 0.782\n",
      "accuracy: 0.836\n"
     ]
    }
   ],
   "source": [
    "results = model.evaluate(test_data.batch(500), verbose=2)\n",
    "for name, value in zip(model.metrics_names, results):print(\"%s: %.3f\" % (name, value))"
   ]
  },
  {
   "cell_type": "code",
   "execution_count": null,
   "id": "aaaf7f47-65b6-4805-b9b9-ce0f3e502a00",
   "metadata": {},
   "outputs": [],
   "source": []
  },
  {
   "cell_type": "code",
   "execution_count": null,
   "id": "5faa2280-e494-4085-917b-27f55dced8aa",
   "metadata": {},
   "outputs": [],
   "source": []
  }
 ],
 "metadata": {
  "kernelspec": {
   "display_name": "Python 3 (ipykernel)",
   "language": "python",
   "name": "python3"
  },
  "language_info": {
   "codemirror_mode": {
    "name": "ipython",
    "version": 3
   },
   "file_extension": ".py",
   "mimetype": "text/x-python",
   "name": "python",
   "nbconvert_exporter": "python",
   "pygments_lexer": "ipython3",
   "version": "3.10.13"
  }
 },
 "nbformat": 4,
 "nbformat_minor": 5
}
